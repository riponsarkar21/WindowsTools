{
 "cells": [
  {
   "cell_type": "code",
   "execution_count": null,
   "id": "c149a718-cb68-46a2-a9c1-9d7ea7152f98",
   "metadata": {},
   "outputs": [],
   "source": [
    "#open Specific File wiht specific software \n",
    "\n",
    "\n",
    "import os\n",
    "import subprocess\n",
    "\n",
    "# Specify the path to the extracted folder\n",
    "folder_path = \"test\"\n",
    "\n",
    "# Specify the name of the XML file you want to open\n",
    "xml_file_name = \"xl/worksheets/sheet1.xml\"\n",
    "\n",
    "# Construct the full path to the XML file\n",
    "xml_file_path = os.path.join(folder_path, xml_file_name)\n",
    "\n",
    "# Check if the file exists before attempting to open\n",
    "if os.path.exists(xml_file_path):\n",
    "    # Use subprocess to open the file with the default text editor\n",
    "    subprocess.run([\"notepad.exe\", xml_file_path])\n",
    "else:\n",
    "    print(f\"File '{xml_file_path}' not found.\")"
   ]
  }
 ],
 "metadata": {
  "kernelspec": {
   "display_name": "Python 3 (ipykernel)",
   "language": "python",
   "name": "python3"
  },
  "language_info": {
   "codemirror_mode": {
    "name": "ipython",
    "version": 3
   },
   "file_extension": ".py",
   "mimetype": "text/x-python",
   "name": "python",
   "nbconvert_exporter": "python",
   "pygments_lexer": "ipython3",
   "version": "3.11.5"
  }
 },
 "nbformat": 4,
 "nbformat_minor": 5
}
