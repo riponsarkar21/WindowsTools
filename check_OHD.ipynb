{
 "cells": [
  {
   "cell_type": "code",
   "execution_count": 1,
   "id": "bc102116-b4d7-4bac-8de6-b5f2961336e1",
   "metadata": {},
   "outputs": [
    {
     "name": "stdout",
     "output_type": "stream",
     "text": [
      "Macro executed successfully.\n"
     ]
    }
   ],
   "source": [
    "import win32com.client\n",
    "import subprocess\n",
    "\n",
    "def check_OHD_run_excel_macro(excel_file_path, macro_name):\n",
    "    try:\n",
    "        xl = win32com.client.Dispatch(\"Excel.Application\")\n",
    "        xl.Visible = False  # Set to False if you don't want Excel to be visible during execution\n",
    "        workbook = xl.Workbooks.Open(excel_file_path)\n",
    "        xl.Application.Run(macro_name)\n",
    "        workbook.Close(SaveChanges=True)  # SaveChanges=True saves changes without prompting\n",
    "        xl.Quit()\n",
    "        print(\"Macro executed successfully.\")\n",
    "    except Exception as e:\n",
    "        print(f\"Error: {e}\")\n",
    "\n",
    "# Example usage:\n",
    "# excel_file_path = r\"C:\\Users\\USER\\pypy\\project\\Oracle Automation\\Supportive Folder\\DownloadedDataHandlebyRipon.xlsm\"\n",
    "# macro_name = \"GetLatestOHDandTransferData\"\n",
    "# run_excel_macro(excel_file_path, macro_name)\n",
    "\n",
    "\n",
    "def open_file():\n",
    "    # file_path = filedialog.askopenfilename()\n",
    "    file_path = r\"C:\\Users\\USER\\pypy\\project\\Oracle Automation\\Supportive Folder\\Inspectioin7 by ripon.xlsm\"\n",
    "    if file_path:\n",
    "        try:\n",
    "            subprocess.Popen(['C:\\\\Program Files\\\\Microsoft Office\\\\root\\\\Office16\\\\EXCEL.EXE', file_path])\n",
    "        except Exception as e:\n",
    "            print(f\"Error opening file: {file_path}\")\n",
    "            print(e)\n",
    "\n",
    "\n",
    "def check_OHD():\n",
    "    excel_file_path = r\"C:\\Users\\USER\\pypy\\project\\Oracle Automation\\Supportive Folder\\DownloadedDataHandlebyRipon.xlsm\"\n",
    "    macro_name = \"GetLatestOHDandTransferData\"\n",
    "    check_OHD_run_excel_macro(excel_file_path, macro_name)\n",
    "    open_file()\n",
    "\n",
    "check_OHD()\n"
   ]
  }
 ],
 "metadata": {
  "kernelspec": {
   "display_name": "Python 3 (ipykernel)",
   "language": "python",
   "name": "python3"
  },
  "language_info": {
   "codemirror_mode": {
    "name": "ipython",
    "version": 3
   },
   "file_extension": ".py",
   "mimetype": "text/x-python",
   "name": "python",
   "nbconvert_exporter": "python",
   "pygments_lexer": "ipython3",
   "version": "3.8.18"
  }
 },
 "nbformat": 4,
 "nbformat_minor": 5
}
