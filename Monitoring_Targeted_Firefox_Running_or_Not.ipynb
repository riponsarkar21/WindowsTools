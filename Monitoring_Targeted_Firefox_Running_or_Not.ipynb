{
 "cells": [
  {
   "cell_type": "code",
   "execution_count": 3,
   "id": "39d06371-cf38-4003-bc45-be51ceba787d",
   "metadata": {},
   "outputs": [
    {
     "name": "stdout",
     "output_type": "stream",
     "text": [
      "Checking Firefox processes...\n",
      "Attempt 3: Firefox process found: PID 16024\n",
      "Attempt 4: Firefox process found: PID 12460\n",
      "Attempt 4: Firefox process found: PID 16024\n",
      "Attempt 5: Firefox process found: PID 12460\n",
      "Attempt 5: Firefox process found: PID 16024\n",
      "Attempt 6: Firefox process found: PID 12460\n",
      "Attempt 6: Firefox process found: PID 16024\n",
      "Attempt 7: Firefox process found: PID 16024\n",
      "Attempt 9: Firefox process found: PID 2360\n",
      "Attempt 9: Firefox process found: PID 2828\n",
      "Attempt 10: Firefox process found: PID 2360\n",
      "Attempt 10: Firefox process found: PID 2828\n",
      "Task completed.\n"
     ]
    }
   ],
   "source": [
    "# Monitoring targeted firefox running or not\n",
    "# using while loop\n",
    "\n",
    "\n",
    "\n",
    "import psutil\n",
    "import time\n",
    "\n",
    "process = {'pid': \"\"}  # Initialize process dictionary\n",
    "\n",
    "def get_firefox_processes(target_path):\n",
    "    firefox_processes = []\n",
    "    count = 0\n",
    "    while count < 10:  # Execute the loop 10 times\n",
    "        try:\n",
    "            for proc in psutil.process_iter(['pid', 'name', 'exe']):\n",
    "                if 'firefox' in proc.info['name'].lower() and target_path in proc.info['exe']:\n",
    "                    firefox_processes.append({\n",
    "                        'pid': proc.info['pid'],\n",
    "                        'exe': proc.info['exe']\n",
    "                    })\n",
    "                    process['pid'] = proc.info['pid']  # Update process PID\n",
    "                    print(f\"Attempt {count+1}: Firefox process found: PID {proc.info['pid']}\")\n",
    "                # else:\n",
    "                    # print(f\"Firefox process not found: \")\n",
    "\n",
    "        \n",
    "        except Exception as e:\n",
    "            print(f\"Error: {e}\")\n",
    "        count += 1  # Increment the count variable\n",
    "        time.sleep(1)  # Wait for 1 second before checking again\n",
    "\n",
    "    return firefox_processes\n",
    "\n",
    "if __name__ == \"__main__\":\n",
    "    target_path = r\"C:\\Program Files (x86)\\Mozilla Firefox\\firefox.exe\"\n",
    "    print(\"Checking Firefox processes...\")\n",
    "    firefox_processes = get_firefox_processes(target_path)\n",
    "    # for process in firefox_processes:\n",
    "    #     print(f\"PID: {process['pid']}, Executable Path: {process['exe']}\")\n",
    "    \n",
    "    print(\"Task completed.\")\n"
   ]
  },
  {
   "cell_type": "code",
   "execution_count": null,
   "id": "333da98b-f660-4d12-80ca-8667ae164738",
   "metadata": {},
   "outputs": [],
   "source": []
  },
  {
   "cell_type": "code",
   "execution_count": null,
   "id": "a94f572e-f2aa-4f25-8460-28bb6944f927",
   "metadata": {},
   "outputs": [],
   "source": []
  }
 ],
 "metadata": {
  "kernelspec": {
   "display_name": "Python 3 (ipykernel)",
   "language": "python",
   "name": "python3"
  },
  "language_info": {
   "codemirror_mode": {
    "name": "ipython",
    "version": 3
   },
   "file_extension": ".py",
   "mimetype": "text/x-python",
   "name": "python",
   "nbconvert_exporter": "python",
   "pygments_lexer": "ipython3",
   "version": "3.8.18"
  }
 },
 "nbformat": 4,
 "nbformat_minor": 5
}
