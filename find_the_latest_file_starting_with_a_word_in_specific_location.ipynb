{
 "cells": [
  {
   "cell_type": "code",
   "execution_count": 1,
   "id": "99bf48b0-bd84-45f4-8214-f8ec093804b3",
   "metadata": {},
   "outputs": [
    {
     "name": "stdout",
     "output_type": "stream",
     "text": [
      "The latest file starting with 'SSGIL_Item_Onhand_Details_' is: SSGIL_Item_Onhand_Details_130424.xls\n"
     ]
    }
   ],
   "source": [
    "import os\n",
    "\n",
    "# Directory path\n",
    "directory = r'C:\\Users\\USER\\Downloads'\n",
    "\n",
    "# Get list of files in the directory\n",
    "files = os.listdir(directory)\n",
    "\n",
    "# Filter out directories and files not starting with \"SSGIL_Item_Onhand_Details_\"\n",
    "files = [file for file in files if os.path.isfile(os.path.join(directory, file)) and file.startswith(\"SSGIL_Item_Onhand_Details_\")]\n",
    "\n",
    "# Sort files by modification time\n",
    "files.sort(key=lambda x: os.path.getmtime(os.path.join(directory, x)), reverse=True)\n",
    "\n",
    "# Print the name of the latest file\n",
    "if files:\n",
    "    latest_file = files[0]\n",
    "    print(\"The latest file starting with 'SSGIL_Item_Onhand_Details_' is:\", latest_file)\n",
    "else:\n",
    "    print(\"No files starting with 'SSGIL_Item_Onhand_Details_' found in the directory.\")\n"
   ]
  }
 ],
 "metadata": {
  "kernelspec": {
   "display_name": "Python 3 (ipykernel)",
   "language": "python",
   "name": "python3"
  },
  "language_info": {
   "codemirror_mode": {
    "name": "ipython",
    "version": 3
   },
   "file_extension": ".py",
   "mimetype": "text/x-python",
   "name": "python",
   "nbconvert_exporter": "python",
   "pygments_lexer": "ipython3",
   "version": "3.8.18"
  }
 },
 "nbformat": 4,
 "nbformat_minor": 5
}
