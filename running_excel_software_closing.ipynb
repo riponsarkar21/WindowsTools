{
 "cells": [
  {
   "cell_type": "code",
   "execution_count": 6,
   "id": "4bc59073-2627-4082-b857-060525ec9fcf",
   "metadata": {},
   "outputs": [
    {
     "name": "stdout",
     "output_type": "stream",
     "text": [
      "Excel process with PID 4720 terminated.\n",
      "Excel process with PID 14072 terminated.\n"
     ]
    }
   ],
   "source": [
    "# Running Excel Software Closing\n",
    "\n",
    "import psutil\n",
    "\n",
    "def close_excel_processes():\n",
    "    # Iterate over all running processes\n",
    "    for proc in psutil.process_iter(['pid', 'name']):\n",
    "        try:\n",
    "            # Check if the process name contains \"excel\"\n",
    "            if 'excel' in proc.info['name'].lower():\n",
    "                # Terminate the process\n",
    "                proc.kill()\n",
    "                print(f\"Excel process with PID {proc.info['pid']} terminated.\")\n",
    "        except (psutil.NoSuchProcess, psutil.AccessDenied, psutil.ZombieProcess):\n",
    "            # Ignore exceptions for process termination\n",
    "            pass\n",
    "\n",
    "if __name__ == \"__main__\":\n",
    "    close_excel_processes()\n"
   ]
  }
 ],
 "metadata": {
  "kernelspec": {
   "display_name": "Python 3 (ipykernel)",
   "language": "python",
   "name": "python3"
  },
  "language_info": {
   "codemirror_mode": {
    "name": "ipython",
    "version": 3
   },
   "file_extension": ".py",
   "mimetype": "text/x-python",
   "name": "python",
   "nbconvert_exporter": "python",
   "pygments_lexer": "ipython3",
   "version": "3.8.18"
  }
 },
 "nbformat": 4,
 "nbformat_minor": 5
}
