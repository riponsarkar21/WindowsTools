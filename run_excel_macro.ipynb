{
 "cells": [
  {
   "cell_type": "code",
   "execution_count": 15,
   "id": "161f5b8a-6e11-4ff0-8fb3-170183698d51",
   "metadata": {},
   "outputs": [
    {
     "name": "stdout",
     "output_type": "stream",
     "text": [
      "Macro executed successfully.\n"
     ]
    }
   ],
   "source": [
    "import win32com.client\n",
    "\n",
    "def run_excel_macro(excel_file_path, macro_name):\n",
    "    try:\n",
    "        xl = win32com.client.Dispatch(\"Excel.Application\")\n",
    "        xl.Visible = True  # Set to False if you don't want Excel to be visible during execution\n",
    "        workbook = xl.Workbooks.Open(excel_file_path)\n",
    "        xl.Application.Run(macro_name)\n",
    "        workbook.Close(SaveChanges=False)\n",
    "        xl.Quit()\n",
    "        print(\"Macro executed successfully.\")\n",
    "    except Exception as e:\n",
    "        print(f\"Error: {e}\")\n",
    "\n",
    "# Example usage:\n",
    "excel_file_path = r\"C:\\Users\\USER\\pypy\\project\\Oracle Automation\\Supportive Folder\\OnHandDetailsDataTransfer.xlsm\"\n",
    "macro_name = \"CopyDataBetweenWorkbooks\"\n",
    "run_excel_macro(excel_file_path, macro_name)\n"
   ]
  }
 ],
 "metadata": {
  "kernelspec": {
   "display_name": "Python 3 (ipykernel)",
   "language": "python",
   "name": "python3"
  },
  "language_info": {
   "codemirror_mode": {
    "name": "ipython",
    "version": 3
   },
   "file_extension": ".py",
   "mimetype": "text/x-python",
   "name": "python",
   "nbconvert_exporter": "python",
   "pygments_lexer": "ipython3",
   "version": "3.8.18"
  }
 },
 "nbformat": 4,
 "nbformat_minor": 5
}
