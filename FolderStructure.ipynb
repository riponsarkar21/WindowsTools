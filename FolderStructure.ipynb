{
 "cells": [
  {
   "cell_type": "code",
   "execution_count": 1,
   "id": "1bd5af27-42d6-4195-a3e3-dd653799540c",
   "metadata": {
    "tags": []
   },
   "outputs": [],
   "source": [
    "import os\n",
    "\n",
    "def generate_structure(starting_path, output_file):\n",
    "    with open(output_file, 'w') as f:\n",
    "        for root, dirs, files in os.walk(starting_path):\n",
    "            level = root.replace(starting_path, '').count(os.sep)\n",
    "            indent = ' ' * 4 * (level)\n",
    "            f.write('{}{}/\\n'.format(indent, os.path.basename(root)))\n",
    "            subindent = ' ' * 4 * (level + 1)\n",
    "            for file in files:\n",
    "                f.write('{}{}\\n'.format(subindent, file))\n",
    "\n",
    "# Example usage:\n",
    "starting_path = '/path/to/your/folder'\n",
    "output_file = 'folder_structure.txt'\n",
    "generate_structure(starting_path, output_file)\n"
   ]
  },
  {
   "cell_type": "code",
   "execution_count": 4,
   "id": "5c668c23-2421-41c1-b4d1-b43ecf824339",
   "metadata": {
    "tags": []
   },
   "outputs": [
    {
     "name": "stdout",
     "output_type": "stream",
     "text": [
      "Folder structure saved to: C:/Users/User/Desktop/SheetPasswordCracker/test\\folder_structure.txt\n"
     ]
    }
   ],
   "source": [
    "# Folder Structure creator\n",
    "\n",
    "import os\n",
    "from tkinter import Tk, filedialog\n",
    "\n",
    "def generate_structure(selected_folder, output_file):\n",
    "    with open(output_file, 'w') as f:\n",
    "        for root, dirs, files in os.walk(selected_folder):\n",
    "            level = root.replace(selected_folder, '').count(os.sep)\n",
    "            indent = ' ' * 4 * (level)\n",
    "            f.write('{}{}/\\n'.format(indent, os.path.basename(root)))\n",
    "            subindent = ' ' * 4 * (level + 1)\n",
    "            for file in files:\n",
    "                f.write('{}{}\\n'.format(subindent, file))\n",
    "\n",
    "def main():\n",
    "    root = Tk()\n",
    "    root.withdraw()  # Hide the main window\n",
    "\n",
    "    # Ask the user to select a folder\n",
    "    selected_folder = filedialog.askdirectory(title=\"Select a folder\")\n",
    "\n",
    "    if not selected_folder:\n",
    "        print(\"No folder selected. Exiting.\")\n",
    "        return\n",
    "\n",
    "    # Set the default output file name\n",
    "    output_file = os.path.join(selected_folder, 'folder_structure.txt')\n",
    "\n",
    "    # Generate the file and folder structure\n",
    "    generate_structure(selected_folder, output_file)\n",
    "\n",
    "    print(f\"Folder structure saved to: {output_file}\")\n",
    "\n",
    "if __name__ == \"__main__\":\n",
    "    main()\n"
   ]
  }
 ],
 "metadata": {
  "kernelspec": {
   "display_name": "Python 3 (ipykernel)",
   "language": "python",
   "name": "python3"
  },
  "language_info": {
   "codemirror_mode": {
    "name": "ipython",
    "version": 3
   },
   "file_extension": ".py",
   "mimetype": "text/x-python",
   "name": "python",
   "nbconvert_exporter": "python",
   "pygments_lexer": "ipython3",
   "version": "3.11.5"
  }
 },
 "nbformat": 4,
 "nbformat_minor": 5
}
