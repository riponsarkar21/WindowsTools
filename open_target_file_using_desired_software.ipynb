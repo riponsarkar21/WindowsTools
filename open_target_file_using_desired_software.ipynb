{
 "cells": [
  {
   "cell_type": "code",
   "execution_count": 10,
   "id": "9638a51c-1f4e-45f4-9c0f-4688ad7fbf8e",
   "metadata": {},
   "outputs": [],
   "source": [
    "import tkinter as tk\n",
    "from tkinter import filedialog\n",
    "import subprocess\n",
    "\n",
    "def open_file():\n",
    "    file_path = filedialog.askopenfilename()\n",
    "    if file_path:\n",
    "        try:\n",
    "            subprocess.Popen(['C:\\\\Program Files\\\\Microsoft Office\\\\root\\\\Office16\\\\EXCEL.EXE', file_path])\n",
    "        except Exception as e:\n",
    "            print(f\"Error opening file: {file_path}\")\n",
    "            print(e)\n",
    "\n",
    "root = tk.Tk()\n",
    "root.title(\"Excel File Opener\")\n",
    "\n",
    "open_button = tk.Button(root, text=\"Open File\", command=open_file)\n",
    "open_button.pack(pady=20)\n",
    "\n",
    "root.mainloop()\n"
   ]
  }
 ],
 "metadata": {
  "kernelspec": {
   "display_name": "Python 3 (ipykernel)",
   "language": "python",
   "name": "python3"
  },
  "language_info": {
   "codemirror_mode": {
    "name": "ipython",
    "version": 3
   },
   "file_extension": ".py",
   "mimetype": "text/x-python",
   "name": "python",
   "nbconvert_exporter": "python",
   "pygments_lexer": "ipython3",
   "version": "3.8.18"
  }
 },
 "nbformat": 4,
 "nbformat_minor": 5
}
