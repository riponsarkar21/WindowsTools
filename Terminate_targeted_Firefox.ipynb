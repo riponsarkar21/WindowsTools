{
 "cells": [
  {
   "cell_type": "code",
   "execution_count": 1,
   "id": "216d788d-c4f0-42c7-95c9-fe0b69c4a71b",
   "metadata": {},
   "outputs": [
    {
     "name": "stdout",
     "output_type": "stream",
     "text": [
      "Terminated Firefox process with PID 9328 and path C:\\Program Files (x86)\\Mozilla Firefox\\firefox.exe\n",
      "Terminated Firefox process with PID 18604 and path C:\\Program Files (x86)\\Mozilla Firefox\\firefox.exe\n"
     ]
    }
   ],
   "source": [
    "# if two or more version of firefox running in pc then \n",
    "# get the PID of the targeted firefox process and terminate\n",
    "\n",
    "\n",
    "\n",
    "import psutil\n",
    "\n",
    "def terminate_firefox_processes(target_path):\n",
    "    try:\n",
    "        for proc in psutil.process_iter(['pid', 'name', 'exe']):\n",
    "            if 'firefox' in proc.info['name'].lower() and target_path in proc.info['exe']:\n",
    "                psutil.Process(proc.info['pid']).terminate()\n",
    "                print(f\"Terminated Firefox process with PID {proc.info['pid']} and path {target_path}\")\n",
    "    except Exception as e:\n",
    "        print(f\"Error: {e}\")\n",
    "\n",
    "# Example usage:\n",
    "target_path = r\"C:\\Program Files (x86)\\Mozilla Firefox\\firefox.exe\"\n",
    "terminate_firefox_processes(target_path)\n"
   ]
  }
 ],
 "metadata": {
  "kernelspec": {
   "display_name": "Python 3 (ipykernel)",
   "language": "python",
   "name": "python3"
  },
  "language_info": {
   "codemirror_mode": {
    "name": "ipython",
    "version": 3
   },
   "file_extension": ".py",
   "mimetype": "text/x-python",
   "name": "python",
   "nbconvert_exporter": "python",
   "pygments_lexer": "ipython3",
   "version": "3.8.18"
  }
 },
 "nbformat": 4,
 "nbformat_minor": 5
}
