{
 "cells": [
  {
   "cell_type": "code",
   "execution_count": 2,
   "id": "aeb116f3-5077-4bf7-a94d-6fe22b875ad1",
   "metadata": {},
   "outputs": [
    {
     "name": "stdout",
     "output_type": "stream",
     "text": [
      "PID: 5160, Executable Path: C:\\Users\\USER\\AppData\\Local\\Mozilla Firefox\\firefox.exe\n",
      "PID: 5516, Executable Path: C:\\Users\\USER\\AppData\\Local\\Mozilla Firefox\\firefox.exe\n",
      "PID: 7732, Executable Path: C:\\Users\\USER\\AppData\\Local\\Mozilla Firefox\\firefox.exe\n",
      "PID: 8900, Executable Path: C:\\Users\\USER\\AppData\\Local\\Mozilla Firefox\\firefox.exe\n",
      "PID: 9328, Executable Path: C:\\Program Files (x86)\\Mozilla Firefox\\firefox.exe\n",
      "PID: 11148, Executable Path: C:\\Users\\USER\\AppData\\Local\\Mozilla Firefox\\firefox.exe\n",
      "PID: 11524, Executable Path: C:\\Users\\USER\\AppData\\Local\\Mozilla Firefox\\firefox.exe\n",
      "PID: 11972, Executable Path: C:\\Users\\USER\\AppData\\Local\\Mozilla Firefox\\firefox.exe\n",
      "PID: 14444, Executable Path: C:\\Users\\USER\\AppData\\Local\\Mozilla Firefox\\firefox.exe\n",
      "PID: 14848, Executable Path: C:\\Users\\USER\\AppData\\Local\\Mozilla Firefox\\firefox.exe\n",
      "PID: 15552, Executable Path: C:\\Users\\USER\\AppData\\Local\\Mozilla Firefox\\firefox.exe\n",
      "PID: 15656, Executable Path: C:\\Users\\USER\\AppData\\Local\\Mozilla Firefox\\firefox.exe\n",
      "PID: 15844, Executable Path: C:\\Users\\USER\\AppData\\Local\\Mozilla Firefox\\firefox.exe\n",
      "PID: 17420, Executable Path: C:\\Users\\USER\\AppData\\Local\\Mozilla Firefox\\firefox.exe\n",
      "PID: 18152, Executable Path: C:\\Users\\USER\\AppData\\Local\\Mozilla Firefox\\firefox.exe\n",
      "PID: 18604, Executable Path: C:\\Program Files (x86)\\Mozilla Firefox\\firefox.exe\n"
     ]
    }
   ],
   "source": [
    "# if two or more version of firefox running in pc then \n",
    "# get all the pid using keyword \"firefox\" to identify \n",
    "# all the firefox process running ,\n",
    "# and check the PID of the all version's source file's path also\n",
    "\n",
    "import psutil\n",
    "\n",
    "def get_firefox_processes():\n",
    "    firefox_processes = []\n",
    "    try:\n",
    "        for proc in psutil.process_iter(['pid', 'name', 'exe']):\n",
    "            if 'firefox' in proc.info['name'].lower():\n",
    "                firefox_processes.append({\n",
    "                    'pid': proc.info['pid'],\n",
    "                    'exe': proc.info['exe']\n",
    "                })\n",
    "    except Exception as e:\n",
    "        print(f\"Error: {e}\")\n",
    "\n",
    "    return firefox_processes\n",
    "\n",
    "# Example usage:\n",
    "firefox_processes = get_firefox_processes()\n",
    "for process in firefox_processes:\n",
    "    print(f\"PID: {process['pid']}, Executable Path: {process['exe']}\")\n"
   ]
  }
 ],
 "metadata": {
  "kernelspec": {
   "display_name": "Python 3 (ipykernel)",
   "language": "python",
   "name": "python3"
  },
  "language_info": {
   "codemirror_mode": {
    "name": "ipython",
    "version": 3
   },
   "file_extension": ".py",
   "mimetype": "text/x-python",
   "name": "python",
   "nbconvert_exporter": "python",
   "pygments_lexer": "ipython3",
   "version": "3.8.18"
  }
 },
 "nbformat": 4,
 "nbformat_minor": 5
}
