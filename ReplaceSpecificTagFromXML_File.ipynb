{
 "cells": [
  {
   "cell_type": "code",
   "execution_count": 4,
   "id": "ac8ff532-ae8a-4bcc-8fbc-1d1983d3b7a8",
   "metadata": {
    "tags": []
   },
   "outputs": [],
   "source": [
    "# Replace specific tag from a file\n",
    "\n",
    "import os\n",
    "import tkinter as tk\n",
    "from tkinter import filedialog\n",
    "import re\n",
    "\n",
    "# Text to replace\n",
    "old_text_pattern = re.compile(r'<sheetProtection[^>]*>')\n",
    "new_text = 'XXYYZZ'\n",
    "\n",
    "def replace_text_in_file(file_path, old_text_pattern, new_text):\n",
    "    # Create a backup of the original file\n",
    "    backup_path = file_path + '.bak'\n",
    "    os.replace(file_path, backup_path)\n",
    "\n",
    "    # Read the content of the original file\n",
    "    with open(backup_path, 'r') as file:\n",
    "        content = file.read()\n",
    "\n",
    "    # Replace the specified text using a regular expression pattern\n",
    "    content = old_text_pattern.sub(new_text, content)\n",
    "\n",
    "    # Write the modified content back to the original file\n",
    "    with open(file_path, 'w') as file:\n",
    "        file.write(content)\n",
    "\n",
    "def select_file():\n",
    "    root = tk.Tk()\n",
    "    root.withdraw()  # Hide the main window\n",
    "\n",
    "    # Open the file dialog\n",
    "    file_path = filedialog.askopenfilename(filetypes=[(\"XML files\", \"*.xml\")])\n",
    "\n",
    "    if file_path:\n",
    "        # Call the function to replace text in the selected file\n",
    "        replace_text_in_file(file_path, old_text_pattern, new_text)\n",
    "\n",
    "if __name__ == \"__main__\":\n",
    "    select_file()\n"
   ]
  }
 ],
 "metadata": {
  "kernelspec": {
   "display_name": "Python 3 (ipykernel)",
   "language": "python",
   "name": "python3"
  },
  "language_info": {
   "codemirror_mode": {
    "name": "ipython",
    "version": 3
   },
   "file_extension": ".py",
   "mimetype": "text/x-python",
   "name": "python",
   "nbconvert_exporter": "python",
   "pygments_lexer": "ipython3",
   "version": "3.11.5"
  }
 },
 "nbformat": 4,
 "nbformat_minor": 5
}
