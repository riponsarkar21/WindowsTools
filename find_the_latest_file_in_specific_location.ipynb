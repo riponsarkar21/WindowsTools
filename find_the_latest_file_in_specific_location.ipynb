{
 "cells": [
  {
   "cell_type": "code",
   "execution_count": 1,
   "id": "36292d48-9dd0-44aa-b0df-6563f9df5146",
   "metadata": {},
   "outputs": [
    {
     "name": "stdout",
     "output_type": "stream",
     "text": [
      "The latest file is: fnd_gfm_3525932.xls\n"
     ]
    }
   ],
   "source": [
    "import os\n",
    "\n",
    "# Directory path\n",
    "directory = r'C:\\Users\\USER\\Downloads'\n",
    "\n",
    "# Get list of files in the directory\n",
    "files = os.listdir(directory)\n",
    "\n",
    "# Filter out directories (if any)\n",
    "files = [file for file in files if os.path.isfile(os.path.join(directory, file))]\n",
    "\n",
    "# Sort files by modification time\n",
    "files.sort(key=lambda x: os.path.getmtime(os.path.join(directory, x)), reverse=True)\n",
    "\n",
    "# Print the name of the latest file\n",
    "if files:\n",
    "    latest_file = files[0]\n",
    "    print(\"The latest file is:\", latest_file)\n",
    "else:\n",
    "    print(\"No files found in the directory.\")\n"
   ]
  }
 ],
 "metadata": {
  "kernelspec": {
   "display_name": "Python 3 (ipykernel)",
   "language": "python",
   "name": "python3"
  },
  "language_info": {
   "codemirror_mode": {
    "name": "ipython",
    "version": 3
   },
   "file_extension": ".py",
   "mimetype": "text/x-python",
   "name": "python",
   "nbconvert_exporter": "python",
   "pygments_lexer": "ipython3",
   "version": "3.8.18"
  }
 },
 "nbformat": 4,
 "nbformat_minor": 5
}
